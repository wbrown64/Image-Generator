{
 "cells": [
  {
   "cell_type": "code",
   "execution_count": 112,
   "metadata": {},
   "outputs": [],
   "source": [
    "import numpy as np\n",
    "import pandas as pd\n",
    "import neuralnetworksA2 as nn\n",
    "import imp\n",
    "from PIL import Image\n",
    "import os\n",
    "import numpy as np\n",
    "import scipy.misc as smp\n",
    "\n",
    "\n",
    "\n",
    "def readFiles(directory_str):\n",
    "    array_of_pictures = []\n",
    "    directory     = os.fsencode(directory_str)\n",
    "    \n",
    "    for file in os.listdir(directory):\n",
    "        filename = os.fsdecode(file)\n",
    "        if filename.endswith(\".png\"):\n",
    "            img = Image.open(directory_str+filename)\n",
    "            pixel_index = img.load()\n",
    "            height, width = img.size\n",
    "            data = np.array(img.getdata())\n",
    "            picture = []\n",
    "            for i in range(height):\n",
    "                row = []\n",
    "                for j in range(width):\n",
    "                    row.append(pixel_index[i, j])\n",
    "                picture.append(row)\n",
    "            np_picture = np.array(picture)\n",
    "        if  len(np_picture.shape) == 3 and np_picture.shape[2] == 3 :\n",
    "            array_of_pictures.append(picture)\n",
    "            \n",
    "    return array_of_pictures\n",
    "\n",
    "def standardizePictures(array_of_pictures):\n",
    "    # Standardizing pictures so they all have the same dimension<><><>< NOT NEEDED (I think) <><><><><\n",
    "    for picture in array_of_pictures:\n",
    "        for row in picture:\n",
    "            while len(row) < 367:   #Careful when using this line, when using other pictures\n",
    "                row.append((0,0,0))\n",
    "    array_of_pictures = [picture for picture in array_of_pictures if np.array(picture).shape == (550, 367, 3)]\n",
    "    return array_of_pictures\n",
    "    #     print(np.array(picture).shape)"
   ]
  },
  {
   "cell_type": "code",
   "execution_count": 113,
   "metadata": {},
   "outputs": [],
   "source": [
    "\n",
    "#Create arrays for training and testing pictures\n",
    "\n",
    "training_pictures = readFiles('./flags-normal/train-data/')\n",
    "testing_pictures  = readFiles('./flags-normal/test-data/')\n",
    "\n",
    "training_pictures = standardizePictures(training_pictures)\n",
    "testing_pictures = standardizePictures(testing_pictures)\n",
    "\n"
   ]
  },
  {
   "cell_type": "code",
   "execution_count": 114,
   "metadata": {},
   "outputs": [
    {
     "name": "stdout",
     "output_type": "stream",
     "text": [
      "(65, 550, 367, 3)\n",
      "(4, 550, 367, 3)\n"
     ]
    }
   ],
   "source": [
    "print(np.array(training_pictures).shape)\n",
    "print(np.array(testing_pictures).shape)"
   ]
  },
  {
   "cell_type": "code",
   "execution_count": 118,
   "metadata": {},
   "outputs": [],
   "source": [
    "netc = nn.NeuralNetwork(882, [10, 10], 219)\n",
    "\n",
    "\n",
    "for picture in training_pictures[0:4]:\n",
    "#     picture = np.array(picture).\n",
    "    # Split up picture\n",
    "    X = np.array([row[int(0.2 * len(row)):] for row in picture])\n",
    "    # print(len(X))\n",
    "    T = np.array([row[0:int(0.2 * len(row))] for row in picture])\n",
    "\n",
    "#     print(\"Shapes before reshape\")\n",
    "#     print(X.shape)\n",
    "#     print(T.shape)\n",
    "    # print(len(T))\n",
    "    X_reshaped = X.reshape((X.shape[0], -1))\n",
    "    T_reshaped= T.reshape((T.shape[0], -1))\n",
    "\n",
    "#     print(\"\\nShapes after reshape\")\n",
    "#     print(X_reshaped.shape)\n",
    "#     print(T_reshaped.shape)     \n",
    "\n",
    "    netc = nn.NeuralNetwork(X_reshaped.shape[1], [1], T_reshaped.shape[1])\n",
    "    netc.train(X_reshaped, T_reshaped, 100)"
   ]
  },
  {
   "cell_type": "code",
   "execution_count": 119,
   "metadata": {},
   "outputs": [],
   "source": [
    "\n",
    "for picture in testing_pictures:  # To do a subset of all pictures, specify training_pictures[0:n]\n",
    "#     picture = np.array(picture).T    # If we wanted to transpose, doesn't look like it works\n",
    "#     print(\"Picture dimension\" + str(np.array(picture).shape))\n",
    "    # Split up picture\n",
    "    X = np.array([row[int(0.2 * len(row)):] for row in picture])\n",
    "    # print(len(X))\n",
    "    T = np.array([row[0:int(0.2 * len(row))] for row in picture])\n",
    "    \n",
    "#     print(\"Shapes before reshape\")\n",
    "#     print(X.shape)\n",
    "#     print(T.shape)\n",
    "    X_reshaped = X.reshape((X.shape[0], -1))\n",
    "    T_reshaped= T.reshape((T.shape[0], -1))\n",
    "    \n",
    "#     print(\"\\nShapes after reshape\")\n",
    "#     print(X_reshaped.shape)\n",
    "#     print(T_reshaped.shape)  \n",
    "    \n",
    "    predicted_values = netc.use(X_reshaped).reshape(T.shape)\n",
    "\n",
    "    predict_pic = np.append(predicted_values, X, axis = 1)\n",
    "    \n",
    "    img = smp.toimage(predict_pic)       # Create a PIL image\n",
    "    img.show()\n"
   ]
  },
  {
   "cell_type": "code",
   "execution_count": 21,
   "metadata": {},
   "outputs": [],
   "source": [
    "# import numpy as np\n",
    "# import scipy.misc as smp\n",
    "# imp.reload(nn)\n",
    "\n",
    "# picture1 = picture\n",
    "# # Create a 1024x1024x3 array of 8 bit unsigned integers\n",
    "# data = np.zeros( (len(picture1[0]),len(picture1[0][0]),3), dtype=np.uint8 )\n",
    "\n",
    "# for row in range(0,len(picture1[0])):\n",
    "#     for col in range(0,len(picture1[0][0])):\n",
    "#         data[row][col] = picture1[0][row][col]\n",
    "\n",
    "# img = smp.toimage(data)       # Create a PIL image\n",
    "# img.show()"
   ]
  },
  {
   "cell_type": "code",
   "execution_count": null,
   "metadata": {
    "collapsed": true
   },
   "outputs": [],
   "source": []
  }
 ],
 "metadata": {
  "kernelspec": {
   "display_name": "Python 3",
   "language": "python",
   "name": "python3"
  },
  "language_info": {
   "codemirror_mode": {
    "name": "ipython",
    "version": 3
   },
   "file_extension": ".py",
   "mimetype": "text/x-python",
   "name": "python",
   "nbconvert_exporter": "python",
   "pygments_lexer": "ipython3",
   "version": "3.6.3"
  }
 },
 "nbformat": 4,
 "nbformat_minor": 2
}
